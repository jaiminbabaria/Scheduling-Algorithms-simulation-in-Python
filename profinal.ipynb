{
 "cells": [
  {
   "cell_type": "markdown",
   "id": "96a7f97e",
   "metadata": {},
   "source": [
    "# Scheduling Algorithms"
   ]
  },
  {
   "cell_type": "code",
   "execution_count": 5,
   "id": "8e88e911",
   "metadata": {},
   "outputs": [
    {
     "name": "stdout",
     "output_type": "stream",
     "text": [
      "Enter the Number of processes:5\n",
      "Enter Process Name: P0\n",
      "Enter Process-P0 Arrival time: 0\n",
      "Enter Process-P0 Burst time: 4\n",
      "Enter Process Name: P1\n",
      "Enter Process-P1 Arrival time: 3\n",
      "Enter Process-P1 Burst time: 7\n",
      "Enter Process Name: P2\n",
      "Enter Process-P2 Arrival time: 2\n",
      "Enter Process-P2 Burst time: 1\n",
      "Enter Process Name: P3\n",
      "Enter Process-P3 Arrival time: 6\n",
      "Enter Process-P3 Burst time: 8\n",
      "Enter Process Name: P4\n",
      "Enter Process-P4 Arrival time: 3\n",
      "Enter Process-P4 Burst time: 5\n",
      "Press 1. for ROUND ROBIN\n",
      "Press 2. for FCFS\n",
      "3. for SJF\n",
      "1\n"
     ]
    }
   ],
   "source": [
    "from collections import defaultdict\n",
    "processNo = int(input(\"Enter the Number of processes:\"))\n",
    "processAT = []\n",
    "processBT = []\n",
    "process = []\n",
    "TT = {}\n",
    "WT = {}\n",
    "process_info= {}\n",
    "for i in range(processNo):\n",
    "    process_name = input(f\"Enter Process Name: \")\n",
    "    process_info[process_name] =[]\n",
    "    process_info[process_name].append((int(input(f\"Enter Process-{process_name} Arrival time: \"))))\n",
    "    process_info[process_name].append((int(input(f\"Enter Process-{process_name} Burst time: \"))))\n",
    "SchedulingType = int(input(\"Press 1. for ROUND ROBIN\\nPress 2. for FCFS\\n3. for SJF\\n\"))"
   ]
  },
  {
   "cell_type": "code",
   "execution_count": 6,
   "id": "6849a889",
   "metadata": {},
   "outputs": [
    {
     "name": "stdout",
     "output_type": "stream",
     "text": [
      "{'P0': [0, 4], 'P2': [2, 1], 'P4': [3, 5], 'P1': [3, 7], 'P3': [6, 8]}\n"
     ]
    }
   ],
   "source": [
    "from collections import defaultdict\n",
    "# SchedulingType = int(input(\"Press 1. for ROUND ROBIN\\nPress 2. for FCFS\\n3. for SJF\\n\"))\n",
    "# process_info = {'p1': [0, 5], 'p2': [1, 3], 'p3': [0, 1], 'p4': [3, 2], 'p6': [3, 4],'p5': [4,3]}\n",
    "process_info = dict(sorted(process_info.items(), key=lambda item: item[1]))\n",
    "print(process_info)\n",
    "for item,lst in process_info.items():\n",
    "    process.append(item)\n",
    "    processAT.append(lst[0])\n",
    "    processBT.append(lst[1])\n",
    "BTcopy = processBT.copy()"
   ]
  },
  {
   "cell_type": "code",
   "execution_count": 7,
   "id": "bbed2718",
   "metadata": {
    "scrolled": true
   },
   "outputs": [
    {
     "name": "stdout",
     "output_type": "stream",
     "text": [
      "Enter Time Quantum:3\n",
      "Process:P0 arrived at 0\n",
      "Process:P2 arrived at 2\n",
      "Process:P4 arrived at 3\n",
      "Process:P1 arrived at 3\n",
      "Time Slice over for P0 at 3\n",
      "Process P2 has completed at 4\n",
      "Process:P3 arrived at 6\n",
      "Time Slice over for P4 at 7\n",
      "Time Slice over for P1 at 10\n",
      "Process P0 has completed at 11\n",
      "Time Slice over for P3 at 14\n",
      "Process P4 has completed at 16\n",
      "Time Slice over for P1 at 19\n",
      "Time Slice over for P3 at 22\n",
      "Process P1 has completed at 23\n",
      "Process P3 has completed at 25\n",
      "Over\n",
      "{'P2': 2, 'P0': 11, 'P4': 13, 'P1': 20, 'P3': 19}\n",
      "{'P2': 1, 'P0': 7, 'P4': 8, 'P1': 13, 'P3': 11}\n"
     ]
    }
   ],
   "source": [
    "def rr():\n",
    "    dic = defaultdict(list)\n",
    "    timeSlice = int(input(\"Enter Time Quantum:\"))\n",
    "    wait = []\n",
    "    Queue = []\n",
    "    CurExe = 0\n",
    "    ts = timeSlice\n",
    "    isExe = False\n",
    "    for i in range (100):\n",
    "        if i in processAT:\n",
    "            for num in range (processAT.count(i)):  \n",
    "                if isExe == False:\n",
    "                    CurExe = process[processAT.index(i) + num ]\n",
    "                    print(f\"Process:{CurExe} arrived at {i}\")\n",
    "                    dic[CurExe].append(i)\n",
    "                    isExe = True\n",
    "                else:\n",
    "                    print(f\"Process:{process[processAT.index(i) + num]} arrived at {i}\")\n",
    "                    Queue.append(process[processAT.index(i)+num])\n",
    "                  #  dic[process[processAT.index(i)]].append(i) \n",
    "#         if i == 0 : \n",
    "#             continue\n",
    "#         print(Queue)\n",
    "#         ts -= 1\n",
    "#         processBT[process.index(CurExe)] -= 1\n",
    "   # print(processBT[process.index(CurExe)])\n",
    "        if processBT[process.index(CurExe)] == 0:\n",
    "            print(f\"Process {CurExe} has completed at {i}\")\n",
    "            TT[CurExe] = (i) - processAT[process.index(CurExe)]\n",
    "            WT[CurExe] = TT[CurExe] - BTcopy[process.index(CurExe)]\n",
    "            dic[CurExe].append(i) \n",
    "            if not Queue:\n",
    "                print(\"Over\")\n",
    "                break\n",
    "            CurExe = Queue[0]\n",
    "            Queue.pop(0)\n",
    "            ts = timeSlice\n",
    "            dic[CurExe].append(i)\n",
    "        if ts == 0 and processBT[process.index(CurExe)] != 0:\n",
    "            print(f\"Time Slice over for {CurExe} at {i}\")\n",
    "            dic[CurExe].append(i)\n",
    "            Queue.append(CurExe)\n",
    "            CurExe = Queue[0]\n",
    "            Queue.pop(0)\n",
    "            dic[CurExe].append(i)\n",
    "            ts = timeSlice\n",
    "            \n",
    "        ts -=1\n",
    "        processBT[process.index(CurExe)] -= 1\n",
    "    return dic\n",
    "\n",
    "def sjf():\n",
    "    def nextProcess():\n",
    "        min = process_info[Queue[0]][1]\n",
    "        minpr = Queue[0]\n",
    "        for p in Queue:\n",
    "            if process_info[p][1] < min:\n",
    "                min = process_info[p][1]\n",
    "                minpr = p\n",
    "        return minpr\n",
    "    dic = defaultdict(list)\n",
    "    wait = []\n",
    "    Queue = []\n",
    "    CurExe = 0\n",
    "    isExe = False\n",
    "    for i in range (100):\n",
    "        if i in processAT:\n",
    "            for num in range (processAT.count(i)):  \n",
    "                if isExe == False:\n",
    "                    CurExe = process[processAT.index(i) + num ]\n",
    "                    print(f\"Process:{CurExe} arrived at {i}\")\n",
    "                    dic[CurExe].append(i)\n",
    "                    isExe = True\n",
    "                else:\n",
    "                    print(f\"Process:{process[processAT.index(i) + num]} arrived at {i}\")\n",
    "                    Queue.append(process[processAT.index(i)+num])\n",
    "                  #  dic[process[processAT.index(i)]].append(i) \n",
    "\n",
    "   # print(Queue)\n",
    "        processBT[process.index(CurExe)] -= 1\n",
    "   # print(processBT[process.index(CurExe)])\n",
    "        if processBT[process.index(CurExe)] == 0:\n",
    "            print(f\"Process {CurExe} has completed at {i}\")\n",
    "            TT[CurExe] = (i+1) - processAT[process.index(CurExe)]\n",
    "            WT[CurExe] = TT[CurExe] - BTcopy[process.index(CurExe)]\n",
    "            dic[CurExe].append(i+1) \n",
    "            if not Queue:\n",
    "                print(\"Over\")\n",
    "                break\n",
    "            CurExe = nextProcess()\n",
    "            Queue.remove(CurExe)\n",
    "            dic[CurExe].append(i+1)\n",
    "    return dic\n",
    "\n",
    "def fcfs():\n",
    "    dic = defaultdict(list)\n",
    "    wait = []\n",
    "    Queue = []\n",
    "    CurExe = 0\n",
    "    isExe = False\n",
    "    for i in range (100):\n",
    "        if i in processAT:\n",
    "            for num in range (processAT.count(i)):  \n",
    "                if isExe == False:\n",
    "                    CurExe = process[processAT.index(i) + num ]\n",
    "                    print(f\"Process:{CurExe} arrived at {i}\")\n",
    "                    dic[CurExe].append(i)\n",
    "                    isExe = True\n",
    "                else:\n",
    "                    print(f\"Process:{process[processAT.index(i) + num]} arrived at {i}\")\n",
    "                    Queue.append(process[processAT.index(i)+num])\n",
    "                  #  dic[process[processAT.index(i)]].append(i) \n",
    "#         if i == 0 : \n",
    "#             continue\n",
    "#         print(Queue)\n",
    "        processBT[process.index(CurExe)] -= 1\n",
    "   # print(processBT[process.index(CurExe)])\n",
    "        if processBT[process.index(CurExe)] == 0:\n",
    "            print(f\"Process {CurExe} has completed at {i+1}\")\n",
    "            TT[CurExe] = (i+1) - processAT[process.index(CurExe)]\n",
    "            WT[CurExe] = TT[CurExe] - BTcopy[process.index(CurExe)]\n",
    "            dic[CurExe].append(i+1) \n",
    "            if not Queue:\n",
    "                print(\"Over\")\n",
    "                break\n",
    "            CurExe = Queue[0]\n",
    "            Queue.pop(0)\n",
    "            dic[CurExe].append(i+1)\n",
    "    return dic\n",
    "\n",
    "if SchedulingType == 1 :\n",
    "    dic = rr()\n",
    "elif SchedulingType == 2 :\n",
    "    dic = fcfs()\n",
    "    print(dic)\n",
    "    \n",
    "elif SchedulingType == 3 :\n",
    "    dic = sjf()\n",
    "else:\n",
    "    print(\"Please give a valid input\")\n",
    "print(TT)\n",
    "print(WT)\n"
   ]
  },
  {
   "cell_type": "code",
   "execution_count": 8,
   "id": "9e631e3a",
   "metadata": {
    "scrolled": false
   },
   "outputs": [
    {
     "name": "stdout",
     "output_type": "stream",
     "text": [
      "[10 20 30 40 50]\n"
     ]
    },
    {
     "data": {
      "image/png": "[encoded data removed]",
      "text/plain": [
       "<Figure size 432x288 with 1 Axes>"
      ]
     },
     "metadata": {
      "needs_background": "light"
     },
     "output_type": "display_data"
    },
    {
     "data": {
      "text/plain": [
       "<Figure size 432x288 with 0 Axes>"
      ]
     },
     "metadata": {},
     "output_type": "display_data"
    },
    {
     "data": {
      "image/png": "[encoded data removed]",
      "text/plain": [
       "<Figure size 432x288 with 1 Axes>"
      ]
     },
     "metadata": {
      "needs_background": "light"
     },
     "output_type": "display_data"
    }
   ],
   "source": [
    "# Importing the matplotlib.pyplot\n",
    "\n",
    "import matplotlib.pyplot as plt\n",
    "import numpy as np\n",
    "%matplotlib inline\n",
    "# Declaring a figure \"gnt\"\n",
    "fig, gnt = plt.subplots()\n",
    "# Setting Y-axis limits\n",
    "gnt.set_ylim(0, 70)\n",
    "\n",
    "# Setting labels for x-axis and y-axis\n",
    "gnt.set_xlabel('CPU Cycles since start')\n",
    "gnt.set_ylabel('Process')\n",
    "ytics = np.arange(10,(len(process) + 1)*10,10)\n",
    "print(ytics)\n",
    "# Setting ticks on y-axis\n",
    "gnt.set_yticks(ytics)\n",
    "# Labelling tickes of y-axis\n",
    "gnt.set_yticklabels([])\n",
    "yOffset = 5\n",
    "plt.title(\"GANTT CHART\")\n",
    "# Setting graph attribute\n",
    "gnt.grid(True)\n",
    "color = ['blue','orange','green','red','purple','brown','pink','gray','olive','cyan']\n",
    "ColorInd = 0\n",
    "for num,lst in dic.items():\n",
    "    lstS = []\n",
    "    lstD = []\n",
    "    for i in range(len(lst)):\n",
    "        if i%2 == 0:\n",
    "            lstS.append(lst[i])\n",
    "        else:\n",
    "            lstD.append(lst[i] - lst[i-1])\n",
    "#     print(lstS)\n",
    "#     print(lstD)\n",
    "    barh = list(zip(lstS,lstD))\n",
    "    gnt.broken_barh(barh, (yOffset, 9), facecolors =(f'tab:{color[ColorInd]}'),label = num)\n",
    "    gnt.legend(loc=\"upper left\")\n",
    "    ColorInd +=1\n",
    "    yOffset = yOffset+10\n",
    "plt.show()\n",
    "plt.savefig(\"gchart.png\") \n",
    "ColorInd = 0\n",
    "fig,gnt2 = plt.subplots()\n",
    "gnt2.set_ylim(0,20)\n",
    "gnt2.set_xlabel('CPU Cycles since start')\n",
    "gnt2.get_yaxis().set_visible(False)\n",
    "plt.title(\"GANTT CHART\")\n",
    "for num,lst in dic.items():\n",
    "    lstS = []\n",
    "    lstD = []\n",
    "    for i in range(len(lst)):\n",
    "        if i%2 == 0:\n",
    "            lstS.append(lst[i])\n",
    "        else:\n",
    "            lstD.append(lst[i] - lst[i-1])\n",
    "#     print(lstS)\n",
    "#     print(lstD)\n",
    "    barh = list(zip(lstS,lstD))\n",
    "    gnt2.broken_barh(barh, (5,6), facecolors =(f'tab:{color[ColorInd]}'),label = num)\n",
    "    gnt2.legend(loc=\"upper left\")\n",
    "    ColorInd +=1"
   ]
  },
  {
   "cell_type": "code",
   "execution_count": 14,
   "id": "c87d3d99",
   "metadata": {},
   "outputs": [
    {
     "name": "stdout",
     "output_type": "stream",
     "text": [
      "Requirement already satisfied: prettytable in c:\\users\\admin\\anaconda3\\lib\\site-packages (3.2.0)\n",
      "Requirement already satisfied: wcwidth in c:\\users\\admin\\anaconda3\\lib\\site-packages (from prettytable) (0.2.5)\n",
      "Note: you may need to restart the kernel to use updated packages.\n"
     ]
    }
   ],
   "source": [
    "pip install -U prettytable"
   ]
  },
  {
   "cell_type": "code",
   "execution_count": 9,
   "id": "3fb914d5",
   "metadata": {},
   "outputs": [
    {
     "name": "stdout",
     "output_type": "stream",
     "text": [
      "+-----+--------------+------------+-----------------+--------------+\n",
      "| Job | Arrival Time | Burst time | TurnAround Time | Waiting Time |\n",
      "+-----+--------------+------------+-----------------+--------------+\n",
      "|  P0 |      0       |     4      |        11       |      7       |\n",
      "|  P2 |      2       |     1      |        2        |      1       |\n",
      "|  P4 |      3       |     5      |        13       |      8       |\n",
      "|  P1 |      3       |     7      |        20       |      13      |\n",
      "|  P3 |      6       |     8      |        19       |      11      |\n",
      "+-----+--------------+------------+-----------------+--------------+\n",
      "Average Turnaround time:13.0\n",
      "Average Waiting time:8.0\n"
     ]
    }
   ],
   "source": [
    "TTsorted = []\n",
    "WTsorted = []\n",
    "# print(process)\n",
    "for pro in process:\n",
    "#     print(pro)\n",
    "    TTsorted.append(TT[pro])\n",
    "    WTsorted.append(WT[pro])\n",
    "from prettytable import PrettyTable\n",
    "x = PrettyTable()\n",
    "field_names = [\"Job\", \"Arrival Time\", \"Burst time\", \"TurnAround Time\", \"Waiting Time\"]\n",
    "x.add_column(field_names[0],process)\n",
    "x.add_column(field_names[1],processAT)\n",
    "x.add_column(field_names[2],BTcopy)\n",
    "x.add_column(field_names[3],TTsorted)\n",
    "x.add_column(field_names[4],WTsorted)\n",
    "print(x)\n",
    "print(f\"Average Turnaround time:{sum(TTsorted) / len(TTsorted)}\")\n",
    "print(f\"Average Waiting time:{sum(WTsorted) / len(WTsorted)}\")"
   ]
  },
  {
   "cell_type": "code",
   "execution_count": null,
   "id": "bbbd6193",
   "metadata": {},
   "outputs": [],
   "source": []
  }
 ],
 "metadata": {
  "kernelspec": {
   "display_name": "Python 3 (ipykernel)",
   "language": "python",
   "name": "python3"
  },
  "language_info": {
   "codemirror_mode": {
    "name": "ipython",
    "version": 3
   },
   "file_extension": ".py",
   "mimetype": "text/x-python",
   "name": "python",
   "nbconvert_exporter": "python",
   "pygments_lexer": "ipython3",
   "version": "3.9.7"
  }
 },
 "nbformat": 4,
 "nbformat_minor": 5
}
